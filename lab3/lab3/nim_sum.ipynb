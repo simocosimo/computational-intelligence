{
 "cells": [
  {
   "cell_type": "code",
   "execution_count": 42,
   "metadata": {},
   "outputs": [],
   "source": [
    "import logging\n",
    "from collections import namedtuple\n",
    "import random\n",
    "from typing import Callable\n",
    "from copy import deepcopy\n",
    "from itertools import accumulate\n",
    "from operator import xor"
   ]
  },
  {
   "cell_type": "code",
   "execution_count": 43,
   "metadata": {},
   "outputs": [],
   "source": [
    "Nimply = namedtuple(\"Nimply\", \"row, num_objects\")\n",
    "\n",
    "class Nim:\n",
    "    def __init__(self, num_rows: int, k: int = None) -> None:\n",
    "        self._rows = [i * 2 + 1 for i in range(num_rows)]\n",
    "        self._k = k\n",
    "\n",
    "    def __bool__(self):\n",
    "        return sum(self._rows) > 0\n",
    "\n",
    "    def __str__(self):\n",
    "        return \"<\" + \" \".join(str(_) for _ in self._rows) + \">\"\n",
    "\n",
    "    @property\n",
    "    def rows(self) -> tuple:\n",
    "        return tuple(self._rows)\n",
    "\n",
    "    @property\n",
    "    def k(self) -> int:\n",
    "        return self._k\n",
    "\n",
    "    def nimming(self, ply: Nimply) -> None:\n",
    "        row, num_objects = ply\n",
    "        assert self._rows[row] >= num_objects\n",
    "        assert self._k is None or num_objects <= self._k\n",
    "        self._rows[row] -= num_objects"
   ]
  },
  {
   "cell_type": "code",
   "execution_count": 44,
   "metadata": {},
   "outputs": [],
   "source": [
    "def nim_sum(state: Nim) -> int:\n",
    "    *_, result = accumulate(state.rows, xor)\n",
    "    return result\n",
    "\n",
    "def cook_status(state: Nim) -> dict:\n",
    "    cooked = dict()\n",
    "    cooked[\"possible_moves\"] = [\n",
    "        (r, o) for r, c in enumerate(state.rows) for o in range(1, c + 1) if state.k is None or o <= state.k\n",
    "    ]\n",
    "    cooked[\"active_rows_number\"] = sum(o > 0 for o in state.rows)\n",
    "    cooked[\"shortest_row\"] = min((x for x in enumerate(state.rows) if x[1] > 0), key=lambda y: y[1])[0]\n",
    "    cooked[\"longest_row\"] = max((x for x in enumerate(state.rows)), key=lambda y: y[1])[0]\n",
    "    cooked[\"nim_sum\"] = nim_sum(state)\n",
    "\n",
    "    brute_force = list()\n",
    "    for m in cooked[\"possible_moves\"]:\n",
    "        tmp = deepcopy(state)\n",
    "        tmp.nimming(m)\n",
    "        brute_force.append((m, nim_sum(tmp)))\n",
    "    cooked[\"brute_force\"] = brute_force\n",
    "\n",
    "    return cooked"
   ]
  },
  {
   "cell_type": "code",
   "execution_count": 45,
   "metadata": {},
   "outputs": [],
   "source": [
    "def optimal_startegy(state: Nim) -> Nimply:\n",
    "    data = cook_status(state)\n",
    "    return next((bf for bf in data[\"brute_force\"] if bf[1] == 0), random.choice(data[\"brute_force\"]))[0]\n",
    "\n",
    "def pure_random(state: Nim) -> Nimply:\n",
    "    row = random.choice([r for r, c in enumerate(state.rows) if c > 0])\n",
    "    num_objects = random.randint(1, state.rows[row])\n",
    "    return Nimply(row, num_objects)"
   ]
  },
  {
   "cell_type": "code",
   "execution_count": 46,
   "metadata": {},
   "outputs": [
    {
     "name": "stderr",
     "output_type": "stream",
     "text": [
      "DEBUG:root:status: Initial board  -> <1 3 5 7 9 11 13 15 17 19 21>\n",
      "DEBUG:root:status: After player 0 -> <1 3 5 7 9 4 13 15 17 19 21>\n",
      "DEBUG:root:status: After player 1 -> <1 3 5 7 9 4 13 15 9 19 21>\n",
      "DEBUG:root:status: After player 0 -> <1 2 5 7 9 4 13 15 9 19 21>\n",
      "DEBUG:root:status: After player 1 -> <0 2 5 7 9 4 13 15 9 19 21>\n",
      "DEBUG:root:status: After player 0 -> <0 2 5 7 9 1 13 15 9 19 21>\n",
      "DEBUG:root:status: After player 1 -> <0 2 0 7 9 1 13 15 9 19 21>\n",
      "DEBUG:root:status: After player 0 -> <0 1 0 7 9 1 13 15 9 19 21>\n",
      "DEBUG:root:status: After player 1 -> <0 1 0 4 9 1 13 15 9 19 21>\n",
      "DEBUG:root:status: After player 0 -> <0 0 0 4 9 1 13 15 9 19 21>\n",
      "DEBUG:root:status: After player 1 -> <0 0 0 4 8 1 13 15 9 19 21>\n",
      "DEBUG:root:status: After player 0 -> <0 0 0 4 8 0 13 15 9 19 21>\n",
      "DEBUG:root:status: After player 1 -> <0 0 0 4 8 0 12 15 9 19 21>\n",
      "DEBUG:root:status: After player 0 -> <0 0 0 2 8 0 12 15 9 19 21>\n",
      "DEBUG:root:status: After player 1 -> <0 0 0 2 8 0 10 15 9 19 21>\n",
      "DEBUG:root:status: After player 0 -> <0 0 0 2 8 0 10 5 9 19 21>\n",
      "DEBUG:root:status: After player 1 -> <0 0 0 2 2 0 10 5 9 19 21>\n",
      "DEBUG:root:status: After player 0 -> <0 0 0 2 2 0 1 5 9 19 21>\n",
      "DEBUG:root:status: After player 1 -> <0 0 0 2 2 0 1 5 2 19 21>\n",
      "DEBUG:root:status: After player 0 -> <0 0 0 2 2 0 1 4 2 19 21>\n",
      "DEBUG:root:status: After player 1 -> <0 0 0 2 2 0 0 4 2 19 21>\n",
      "DEBUG:root:status: After player 0 -> <0 0 0 2 2 0 0 3 2 19 21>\n",
      "DEBUG:root:status: After player 1 -> <0 0 0 2 2 0 0 3 2 19 18>\n",
      "DEBUG:root:status: After player 0 -> <0 0 0 2 2 0 0 3 0 19 18>\n",
      "DEBUG:root:status: After player 1 -> <0 0 0 0 2 0 0 3 0 19 18>\n",
      "DEBUG:root:status: After player 0 -> <0 0 0 0 0 0 0 3 0 19 18>\n",
      "DEBUG:root:status: After player 1 -> <0 0 0 0 0 0 0 1 0 19 18>\n",
      "DEBUG:root:status: After player 0 -> <0 0 0 0 0 0 0 1 0 7 18>\n",
      "DEBUG:root:status: After player 1 -> <0 0 0 0 0 0 0 1 0 7 6>\n",
      "DEBUG:root:status: After player 0 -> <0 0 0 0 0 0 0 1 0 5 6>\n",
      "DEBUG:root:status: After player 1 -> <0 0 0 0 0 0 0 1 0 5 4>\n",
      "DEBUG:root:status: After player 0 -> <0 0 0 0 0 0 0 0 0 5 4>\n",
      "DEBUG:root:status: After player 1 -> <0 0 0 0 0 0 0 0 0 4 4>\n",
      "DEBUG:root:status: After player 0 -> <0 0 0 0 0 0 0 0 0 4 1>\n",
      "DEBUG:root:status: After player 1 -> <0 0 0 0 0 0 0 0 0 1 1>\n",
      "DEBUG:root:status: After player 0 -> <0 0 0 0 0 0 0 0 0 1 0>\n",
      "DEBUG:root:status: After player 1 -> <0 0 0 0 0 0 0 0 0 0 0>\n",
      "INFO:root:status: Player 1 won!\n"
     ]
    }
   ],
   "source": [
    "logging.getLogger().setLevel(logging.DEBUG)\n",
    "\n",
    "strategy = (pure_random, optimal_startegy)\n",
    "\n",
    "nim = Nim(11)\n",
    "logging.debug(f\"status: Initial board  -> {nim}\")\n",
    "player = 0\n",
    "while nim:\n",
    "    ply = strategy[player](nim)\n",
    "    nim.nimming(ply)\n",
    "    logging.debug(f\"status: After player {player} -> {nim}\")\n",
    "    player = 1 - player\n",
    "winner = 1 - player\n",
    "logging.info(f\"status: Player {winner} won!\")"
   ]
  }
 ],
 "metadata": {
  "kernelspec": {
   "display_name": "Python 3.10.8 ('.venv': poetry)",
   "language": "python",
   "name": "python3"
  },
  "language_info": {
   "codemirror_mode": {
    "name": "ipython",
    "version": 3
   },
   "file_extension": ".py",
   "mimetype": "text/x-python",
   "name": "python",
   "nbconvert_exporter": "python",
   "pygments_lexer": "ipython3",
   "version": "3.10.8"
  },
  "orig_nbformat": 4,
  "vscode": {
   "interpreter": {
    "hash": "e3d5c57e555c093004e984f2057f49a01c19da56538e866e76190e6bc8dc051e"
   }
  }
 },
 "nbformat": 4,
 "nbformat_minor": 2
}
