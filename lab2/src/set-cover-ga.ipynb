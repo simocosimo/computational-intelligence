{
 "cells": [
  {
   "cell_type": "code",
   "execution_count": 1,
   "metadata": {},
   "outputs": [],
   "source": [
    "import random\n",
    "\n",
    "def problem(N, seed=None):\n",
    "    random.seed(seed)\n",
    "    return [\n",
    "        set(random.randint(0, N - 1) for n in range(random.randint(N // 5, N // 2)))\n",
    "        for n in range(random.randint(N, N * 5))\n",
    "    ]\n",
    "\n",
    "N = 100\n",
    "POPULATION_SIZE = 2000\n",
    "# N_PARTECIPANTS = 5\n",
    "MAX_USELESS_EPOCHS = 1000\n",
    "SETS = problem(N, seed=42)"
   ]
  },
  {
   "cell_type": "code",
   "execution_count": 2,
   "metadata": {},
   "outputs": [],
   "source": [
    "def fitness_uncovered_elements(current_set, N):\n",
    "    s = set()\n",
    "    for i in range(len(current_set)):\n",
    "        if current_set[i] == 1: s.update(SETS[i])\n",
    "    return N - len(s)\n",
    "\n",
    "def fitness_weight_sets(current_set):\n",
    "    tot = 0\n",
    "    for i in range(len(current_set)):\n",
    "        if current_set[i] == 1: tot += len(SETS[i])\n",
    "    return tot\n",
    "\n",
    "def crossover(mom, dad, mode=2):\n",
    "    if mode == 1:\n",
    "        return one_point_crossover(mom, dad), one_point_crossover(dad, mom)\n",
    "    else:\n",
    "        return two_point_crossover(mom, dad), two_point_crossover(dad, mom)\n",
    "\n",
    "def one_point_crossover(mom, dad):\n",
    "    # randomly select a crossover point\n",
    "    crossover_point = random.randint(0, len(mom) - 1)\n",
    "    # create a new individual by combining the first half of mom with the second half of dad\n",
    "    return mom[:crossover_point] + dad[crossover_point:]\n",
    "\n",
    "def two_point_crossover(mom, dad):\n",
    "    # randomly select a crossover point\n",
    "    crossover_point_1 = random.randint(0, len(mom) - 1)\n",
    "    crossover_point_2 = random.randint(0, len(mom) - 1)\n",
    "    while crossover_point_2 == crossover_point_1:\n",
    "        crossover_point_2 = random.randint(0, len(mom) - 1)\n",
    "    \n",
    "    # create a new individual by combining the first and thirds half of mom with the middle half of dad\n",
    "    lower_cut = min(crossover_point_1,crossover_point_2)\n",
    "    upper_cut = max(crossover_point_1,crossover_point_2)\n",
    "    return mom[:lower_cut] + dad[lower_cut:upper_cut] + mom[upper_cut:]\n",
    "\n",
    "# not actually used, I used this for some testing\n",
    "def tournament(population, n_partecipants):\n",
    "    return max(random.sample(population, n_partecipants), key=lambda x: (x[1], x[2]))\n",
    "\n",
    "def mate(population, N):\n",
    "    useless_epochs = 0\n",
    "    best = None\n",
    "    while useless_epochs < MAX_USELESS_EPOCHS:\n",
    "        if random.random() < 0.8:\n",
    "            #crossover\n",
    "            for i in range(len(population)):\n",
    "                # first mate the 2 fittest indivudals (with elitism, didn't really work)\n",
    "                # mom = mating_population[0 if i == 0 else random.randint(2, len(mating_population) - 1)][0]\n",
    "                # dad = mating_population[1 if i == 0 else random.randint(2, len(mating_population) - 1)][0]\n",
    "\n",
    "                # first mate the 2 fittest indivudals (without elitism, better results)\n",
    "                mom = population[random.randint(0, len(population) - 1)][0]\n",
    "                dad = population[random.randint(0, len(population) - 1)][0]\n",
    "                offspring_1, offspring_2 = crossover(mom, dad, mode=2)\n",
    "                population.append((offspring_1, fitness_uncovered_elements(offspring_1, N), fitness_weight_sets(offspring_1)))\n",
    "                population.append((offspring_2, fitness_uncovered_elements(offspring_2, N), fitness_weight_sets(offspring_2)))\n",
    "        else:\n",
    "            # mutation\n",
    "            for p in population:\n",
    "                if random.random() < 0.1:\n",
    "                    for _ in range(random.randrange(5)):\n",
    "                        index = random.randint(0, len(p) - 1)\n",
    "                        mutated_list = p[0][:]\n",
    "                        mutated_list[index] = 1 if mutated_list[index] == 0 else 0\n",
    "                        p = (mutated_list, fitness_uncovered_elements(mutated_list, N), fitness_weight_sets(mutated_list))\n",
    "\n",
    "        # cleaning\n",
    "        population = sorted(population, key=lambda x: (x[1], x[2]))[:POPULATION_SIZE]\n",
    "\n",
    "        # first one is the best\n",
    "        if best is None or (best[2] > population[0][2] and population[0][1] == 0):\n",
    "            best = population[0]\n",
    "            useless_epochs = 0\n",
    "        else:\n",
    "            useless_epochs += 1\n",
    "\n",
    "    return best\n",
    "\n",
    "def check_solution(solution, N):\n",
    "    s = set()\n",
    "    for i in range(len(solution)):\n",
    "        if solution[i] == 1: s.update(SETS[i])\n",
    "    return len(s) == N"
   ]
  },
  {
   "cell_type": "code",
   "execution_count": 3,
   "metadata": {},
   "outputs": [
    {
     "name": "stdout",
     "output_type": "stream",
     "text": [
      "Best for 100 elements\n",
      "Stats: 0 uncovered elements\n",
      "Weight: 192\n",
      "Solution check: True\n",
      "[{4, 5, 12, 14, 17, 19, 27, 30, 35, 38, 47, 49, 52, 53, 56, 58, 59, 62, 63, 68, 69, 75, 78, 83, 85, 88, 89, 93, 95}, {0, 1, 2, 3, 6, 8, 14, 16, 18, 22, 30, 32, 33, 35, 41, 45, 53, 67, 69, 75, 76, 84, 94, 95, 99}, {6, 9, 12, 15, 16, 18, 24, 25, 35, 36, 43, 46, 47, 49, 50, 51, 57, 64, 65, 70, 71, 72, 77, 78, 79, 87, 96, 97}, {97, 34, 65, 3, 70, 39, 71, 11, 13, 46, 45, 16, 52, 55, 23, 56, 57}, {0, 1, 2, 13, 16, 22, 26, 27, 28, 32, 34, 35, 38, 39, 44, 48, 50, 52, 54, 58, 59, 60, 65, 66, 73, 74, 76, 77, 79, 82, 83, 86, 87, 90, 91, 98, 99}, {2, 5, 7, 14, 15, 16, 17, 18, 20, 21, 23, 26, 29, 31, 33, 42, 51, 52, 53, 61, 65, 66, 72, 73, 75, 76, 80, 81, 82, 84, 86, 91, 92}, {3, 5, 10, 29, 34, 37, 40, 43, 45, 47, 48, 52, 54, 55, 56, 57, 59, 63, 65, 66, 74, 79, 96}]\n"
     ]
    }
   ],
   "source": [
    "# rappresentation: [[bynary string]]\n",
    "binrappr = [[random.choice([0,1]) for _ in SETS] for _ in range(POPULATION_SIZE)]\n",
    "# rappresentation: [(binary_rappr, fit_uncovered_elements, len_used_subsets)]\n",
    "fitvalues = sorted([(p, fitness_uncovered_elements(p, N), fitness_weight_sets(p)) for p in binrappr], key=lambda x: (x[1], x[2]))\n",
    "\n",
    "# start di algorithm\n",
    "best = mate(fitvalues, N)\n",
    "\n",
    "# print results\n",
    "print(f\"Best for {N} elements\\nStats: {best[1]} uncovered elements\\nWeight: {best[2]}\\nSolution check: {check_solution(best[0], N)}\")\n",
    "print([SETS[s] for s in range(len(best[0])) if best[0][s] == 1])\n"
   ]
  }
 ],
 "metadata": {
  "kernelspec": {
   "display_name": "Python 3.10.8 ('.venv': poetry)",
   "language": "python",
   "name": "python3"
  },
  "language_info": {
   "codemirror_mode": {
    "name": "ipython",
    "version": 3
   },
   "file_extension": ".py",
   "mimetype": "text/x-python",
   "name": "python",
   "nbconvert_exporter": "python",
   "pygments_lexer": "ipython3",
   "version": "3.10.8"
  },
  "orig_nbformat": 4,
  "vscode": {
   "interpreter": {
    "hash": "4a33471e4b21b509214560971cc4ddaeefebf53feffff7c2d9326954aab5c6c4"
   }
  }
 },
 "nbformat": 4,
 "nbformat_minor": 2
}
